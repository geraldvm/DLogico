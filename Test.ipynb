{
 "cells": [
  {
   "cell_type": "code",
   "execution_count": 1,
   "metadata": {},
   "outputs": [],
   "source": [
    "from tkinter import *\n",
    "from tkinter import messagebox\n",
    "import tkinter.scrolledtext as scrolledtext\n",
    "import os\n",
    "import numpy as np\n",
    "import matplotlib.pyplot as plt\n",
    "from matplotlib.widgets import EllipseSelector\n",
    "from functools import partial"
   ]
  },
  {
   "cell_type": "code",
   "execution_count": 2,
   "metadata": {},
   "outputs": [],
   "source": [
    "#Calculo de variable electromagnetica \"ns\"\n",
    "def variable_electromagnetica(frec, polos):\n",
    "    ns=(120*frec)/polos\n",
    "    return ns"
   ]
  },
  {
   "cell_type": "code",
   "execution_count": 3,
   "metadata": {},
   "outputs": [],
   "source": [
    "def velocidad_rotor(ns,s):\n",
    "    nr=[];\n",
    "    if(s!=[]):\n",
    "        for x in s:\n",
    "            nr.append(ns*(1-x))\n",
    "        return nr"
   ]
  },
  {
   "cell_type": "code",
   "execution_count": 4,
   "metadata": {},
   "outputs": [],
   "source": [
    "def deslizamiento(nr,ns):\n",
    "    return (ns-nr)/ns"
   ]
  },
  {
   "cell_type": "code",
   "execution_count": 5,
   "metadata": {},
   "outputs": [],
   "source": [
    "def axis_desplazamiento(nr,ns):\n",
    "    s=[];\n",
    "    if(nr!=[]):\n",
    "        for x in nr:\n",
    "            s.append(deslizamiento(x,ns))\n",
    "        return s"
   ]
  },
  {
   "cell_type": "code",
   "execution_count": 6,
   "metadata": {},
   "outputs": [],
   "source": [
    "def torque(voltaje,deslizamiento_list, frecuencia):\n",
    "    t=[];\n",
    "    for x in deslizamiento_list:\n",
    "        temp=(((voltaje**2)/3)*x)/frecuencia\n",
    "        t.append(temp)\n",
    "    return t"
   ]
  },
  {
   "cell_type": "code",
   "execution_count": 7,
   "metadata": {},
   "outputs": [],
   "source": [
    "def fill_nr(inicial,final):\n",
    "    if(inicial<final):\n",
    "        if(inicial!=0):\n",
    "            nr=[]\n",
    "            for i in range (inicial,final):\n",
    "                nr.append(i)\n",
    "            return nr\n",
    "    else:\n",
    "        return []"
   ]
  },
  {
   "cell_type": "code",
   "execution_count": 8,
   "metadata": {},
   "outputs": [],
   "source": [
    "def plotear_aux_des(nrIn,nrFin,voltaje,frecuencia,polos):\n",
    "    nr=fill_nr(nrIn,nrFin)\n",
    "    ns=variable_electromagnetica(frecuencia, polos)\n",
    "    s=axis_desplazamiento(nr,ns)\n",
    "    tor=torque(voltaje,s,frecuencia)\n",
    "    plt.plot(s, tor, label='Torque vs Deslizamiento')\n",
    "    \n",
    "    plt.legend()\n",
    "    plt.show()"
   ]
  },
  {
   "cell_type": "code",
   "execution_count": 9,
   "metadata": {},
   "outputs": [],
   "source": [
    "def plotear_deslizamiento (nr_in,nr_fin,volt,frec,numPol):\n",
    "    polos=int(numPol.get())\n",
    "    frecuencia=int(frec.get())\n",
    "    nrInicial=int(nr_in.get())\n",
    "    nrFinal=int(nr_fin.get())\n",
    "    voltaje=int(volt.get())\n",
    "    if(polos>0 and frecuencia>0 and nrInicial>0 \n",
    "       and nrFinal>0 and voltaje>0 and nrInicial<nrFinal):\n",
    "    #and nrFinal<variable_electromagnetica(frecuencia, polos)):\n",
    "        plotear_aux_des(nrInicial,nrFinal,voltaje,frecuencia,polos)\n",
    "        "
   ]
  },
  {
   "cell_type": "code",
   "execution_count": 10,
   "metadata": {},
   "outputs": [],
   "source": [
    "def plotear_aux_vel(voltaje,frecuencia,polos):\n",
    "    s=[0.1,0.2,0.3,0.4,0.5,0.6,0.7,0.8,0.9]\n",
    "    ns=variable_electromagnetica(frecuencia, polos)\n",
    "    nr=velocidad_rotor(ns,s)\n",
    "    tor=torque(voltaje,s,frecuencia)\n",
    "    plt.plot(nr,tor, label='Torque vs Velocidad del Rotor')\n",
    "    plt.legend()\n",
    "    plt.show()"
   ]
  },
  {
   "cell_type": "code",
   "execution_count": 11,
   "metadata": {},
   "outputs": [],
   "source": [
    "def plotear_velocidad(p,f,volt):    \n",
    "    polos=int(p.get())\n",
    "    frecuencia=int(f.get())\n",
    "    voltaje=int(volt.get())\n",
    "    if(polos>0 and frecuencia>0 and voltaje>0):\n",
    "        plotear_aux_vel(voltaje,frecuencia,polos)\n",
    "        #reset()\"\"\""
   ]
  },
  {
   "cell_type": "code",
   "execution_count": 12,
   "metadata": {},
   "outputs": [],
   "source": [
    "def reset():\n",
    "    nrin.delete(0, END)\n",
    "    nrfin.delete(0, END)\n",
    "    varElec.delete(0, END)\n",
    "    numPol.delete(0, END)\n",
    "    frec.delete(0, END)"
   ]
  },
  {
   "cell_type": "code",
   "execution_count": 13,
   "metadata": {},
   "outputs": [],
   "source": [
    "def desplazamiento_w():\n",
    "    ventana.withdraw()\n",
    "    despWindow = Toplevel()\n",
    "    despWindow.title(\"Torque vs Desplazamiento\")\n",
    "    despWindow.minsize(600,400)\n",
    "    despWindow.resizable(width=NO,height=NO)\n",
    "    cH = Canvas(despWindow, width= 600, height = 400, bg =\"#d3d00e\")\n",
    "    cH.place(x=0,y=0)\n",
    "    #*******************Ir a ventana HOME*********************\n",
    "    def home():\n",
    "        despWindow.destroy()\n",
    "        ventana.deiconify()##Reaparece la ventana principal\n",
    "\n",
    "    botonHome = Button(despWindow, text=\"Home\", command=home,bg=\"#BF1134\",fg=\"white\",font=(\"Helvetica\",15))\n",
    "    botonHome.place(x=15,y=15)\n",
    "    \n",
    "        #**********************Interfaz************************\n",
    "    #labels\n",
    "    par =  Label(despWindow,text=\"Parametros del Motor:\",font=(\"Helvetica\",18),fg=\"black\",bg=\"#d3d00e\").place(x=300,y=20)\n",
    "    ini =  Label(despWindow,text=\"Nr inicial\",font=(\"Helvetica\",14),fg=\"black\",bg=\"#d3d00e\").place(x=40,y=140)\n",
    "    fin =  Label(despWindow,text=\"Nr final\",font=(\"Helvetica\",14),fg=\"black\",bg=\"#d3d00e\").place(x=40,y=200)\n",
    "    voltaje = Label(despWindow,text=\"Voltaje\",font=(\"Helvetica\",14),fg=\"black\",bg=\"#d3d00e\").place(x=300,y=80)\n",
    "    numeroPolos = Label(despWindow,text=\"Numero de polos (P)\",font=(\"Helvetica\",14),fg=\"black\",bg=\"#d3d00e\").place(x=300,y=180)\n",
    "    frecuencia = Label(despWindow,text=\"Frecuencia (Fs)\",font=(\"Helvetica\",14),fg=\"black\",bg=\"#d3d00e\").place(x=300,y=280)\n",
    "\n",
    "    #TextInput\n",
    "    nr_in = Entry(despWindow)\n",
    "    nr_in.place(x=40,y=170)\n",
    "    nr_in.focus_set()\n",
    "    nr_fin = Entry(despWindow)\n",
    "    nr_fin.place(x=40,y=230)\n",
    "    nr_fin.focus_set()\n",
    "    volt = Entry(despWindow)\n",
    "    volt.place(x=300,y=120)\n",
    "    volt.focus_set()\n",
    "    numPol = Entry(despWindow)\n",
    "    numPol.place(x=300,y=220)\n",
    "    numPol.focus_set()\n",
    "    frec = Entry(despWindow)\n",
    "    frec.place(x=300,y=320)\n",
    "    frec.focus_set()\n",
    "\n",
    "    #Buttons\n",
    "    botonStart = Button(despWindow, text=\"Graficar\", command=partial(plotear_deslizamiento, nr_in,nr_fin,volt,frec,numPol), bg=\"#a9052e\",fg=\"white\",font=(\"Helvetica\",15)).place(x=40, y=290)\n"
   ]
  },
  {
   "cell_type": "code",
   "execution_count": 14,
   "metadata": {},
   "outputs": [],
   "source": [
    "def velocidad_w():\n",
    "    ventana.withdraw()\n",
    "    velWindow = Toplevel()\n",
    "    velWindow.title(\"Torque vs Velocidad rotor\")\n",
    "    velWindow.minsize(600,400)\n",
    "    velWindow.resizable(width=NO,height=NO)\n",
    "    cH = Canvas(velWindow, width= 600, height = 400, bg =\"white\")\n",
    "    cH.place(x=0,y=0)\n",
    "    #*******************Ir a ventana HOME*********************\n",
    "    def home():\n",
    "        velWindow.destroy()\n",
    "        ventana.deiconify()##Reaparece la ventana principal\n",
    "\n",
    "    botonHome = Button(velWindow, text=\"Home\", command=home,bg=\"white\",fg=\"black\",font=(\"Helvetica\",15))\n",
    "    botonHome.place(x=15,y=15)\n",
    "    \n",
    "    #**********************Interfaz************************\n",
    "    #labels\n",
    "    par =  Label(velWindow,text=\"Parametros del Motor:\",font=(\"Helvetica\",18),bg=\"white\",fg=\"black\").place(x=300,y=20)\n",
    "    voltaje = Label(velWindow,text=\"Voltaje\",font=(\"Helvetica\",14),bg=\"white\",fg=\"black\").place(x=300,y=80)\n",
    "    numeroPolos = Label(velWindow,text=\"Numero de polos (P)\",font=(\"Helvetica\",14),bg=\"white\",fg=\"black\").place(x=300,y=180)\n",
    "    frecuencia = Label(velWindow,text=\"Frecuencia (Fs)\",font=(\"Helvetica\",14),bg=\"white\",fg=\"black\").place(x=300,y=280)\n",
    "\n",
    "    #TextInput\n",
    "    volta = Entry(velWindow)\n",
    "    volta.place(x=300,y=120)\n",
    "    volta.focus_set()\n",
    "    numPolos = Entry(velWindow)\n",
    "    numPolos.place(x=300,y=220)\n",
    "    numPolos.focus_set()\n",
    "    frecuencia = Entry(velWindow)\n",
    "    frecuencia.place(x=300,y=320)\n",
    "    frecuencia.focus_set()\n",
    "\n",
    "    #Buttons\n",
    "    botonStart = Button(velWindow, text=\"Graficar\", command=partial(plotear_velocidad, numPolos,frecuencia,volta), bg=\"#a9052e\",fg=\"white\",font=(\"Helvetica\",15)).place(x=40, y=290)"
   ]
  },
  {
   "cell_type": "code",
   "execution_count": null,
   "metadata": {},
   "outputs": [
    {
     "data": {
      "image/png": "[encoded data removed]",
      "text/plain": [
       "<Figure size 432x288 with 1 Axes>"
      ]
     },
     "metadata": {
      "needs_background": "light"
     },
     "output_type": "display_data"
    }
   ],
   "source": [
    "ventana = Tk()\n",
    "ventana.title(\"Tarea3\")\n",
    "ventana.minsize(600,400)\n",
    "ventana.resizable(width=NO, height=NO)\n",
    "ventana.configure(background=\"white\")\n",
    "fondo= Canvas(ventana, width= 600, height = 400, bg=\"black\")\n",
    "fondo.place(x=0,y=0)\n",
    "#*************************BOTONES*****************************\n",
    "etiqueta = Label(ventana,text=\"Motor de Inducción\",font=(\"Comic Sans Ms\",30),bg=\"black\",fg=\"white\").place(x=100,y=20)\n",
    "instrucciones = Label(ventana,text=\"Seleccione caso 1 para gráfica desplazamiento vs torque\\nSeleccione caso 2 para gráfica velocidad del rotor vs torque\",font=(\"Comic Sans Ms\",12),bg=\"black\",fg=\"white\").place(x=100,y=100)\n",
    "botonDesp = Button(ventana, text=\"Caso 1\", command=desplazamiento_w,bg=\"#a9052e\",fg=\"white\",font=(\"Helvetica\",15))\n",
    "botonDesp.place(x=220,y=300)\n",
    "botonVel = Button(ventana, text=\"Caso 2\", command=velocidad_w,bg=\"#d3d00e\",fg=\"white\",font=(\"Helvetica\",15))\n",
    "botonVel.place(x=320,y=300)\n",
    "ventana.mainloop()"
   ]
  },
  {
   "cell_type": "code",
   "execution_count": null,
   "metadata": {},
   "outputs": [],
   "source": []
  }
 ],
 "metadata": {
  "kernelspec": {
   "display_name": "Python 3",
   "language": "python",
   "name": "python3"
  },
  "language_info": {
   "codemirror_mode": {
    "name": "ipython",
    "version": 3
   },
   "file_extension": ".py",
   "mimetype": "text/x-python",
   "name": "python",
   "nbconvert_exporter": "python",
   "pygments_lexer": "ipython3",
   "version": "3.7.4"
  }
 },
 "nbformat": 4,
 "nbformat_minor": 2
}
